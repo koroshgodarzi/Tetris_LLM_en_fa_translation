{
  "nbformat": 4,
  "nbformat_minor": 0,
  "metadata": {
    "colab": {
      "provenance": []
    },
    "kernelspec": {
      "name": "python3",
      "display_name": "Python 3"
    },
    "language_info": {
      "name": "python"
    }
  },
  "cells": [
    {
      "cell_type": "markdown",
      "source": [
        "# Regex Homework\n",
        "By Tetris Team"
      ],
      "metadata": {
        "id": "K6Gs3ik6FQd0"
      }
    },
    {
      "cell_type": "markdown",
      "source": [
        "# **عبارات منظم**\n"
      ],
      "metadata": {
        "id": "BAecCFHiJE_A"
      }
    },
    {
      "cell_type": "code",
      "source": [
        "import re\n",
        "import json"
      ],
      "metadata": {
        "id": "reasH4cOL3LJ"
      },
      "execution_count": null,
      "outputs": []
    },
    {
      "cell_type": "markdown",
      "source": [
        "## مسئله اول\n",
        "برنامه‌ای بنویسی که با کمک عبارت منظم تمام فرمت‌های تاریخی را بیابد."
      ],
      "metadata": {
        "id": "SNwR7CMbLi3n"
      }
    },
    {
      "cell_type": "code",
      "source": [
        "date_regex = re.compile(r\"\"\"(?xi)\n",
        "(\n",
        "  (?P<y1>[0-9\\u06F0-\\u06F9]{2,4})[\\/\\-](?P<m1>[0-9\\u06F0-\\u06F9]{1,2})[\\/\\-](?P<d1>[0-9\\u06F0-\\u06F9]{1,2})\n",
        "|\n",
        "  (?P<d2>[0-9\\u06F0-\\u06F9]{1,2})\\s*\\/\\s*(?P<mn2>[\\u0600-\\u06FF]{2,20})\\s*\\/\\s*(?P<y2>[0-9\\u06F0-\\u06F9]{2,4})\n",
        "|\n",
        "  (?P<ord>(?:[^\\d\\s]{1,30}(?:\\s+و\\s+[^\\d\\s]{1,30})?))\\s+\n",
        "  (?P<mn3>فروردین|اردیبهشت|خرداد|تیر|مرداد|شهریور|مهر|آبان|آذر|دی|بهمن|اسفند)\n",
        "  (?:\\s+ماه)?(?:\\s+سال)?\\s+(?P<y3>[0-9\\u06F0-\\u06F9]{2,4})\n",
        ")\n",
        "\"\"\", re.UNICODE | re.VERBOSE | re.IGNORECASE)"
      ],
      "metadata": {
        "id": "ZcRBkKBsLugV"
      },
      "execution_count": null,
      "outputs": []
    },
    {
      "cell_type": "code",
      "source": [
        "text_examples = [\n",
        "    \"۱۴۰۳/۰۶/۲۵\",\n",
        "    \"۲۵/شهریور/۱۴۰۳\",\n",
        "    \"۱۴۰۳-۰۶-۰۵\",\n",
        "    \"بیست و پنجم شهریور ماه سال ۱۴۰۳\",\n",
        "    \"پانزدهم دی ماه سال ۱۴۰۳\",\n",
        "    \"یکم مرداد ماه سال ۱۳۲۶\",\n",
        "    \"(ص) برخی متن (ره)\",\n",
        "    '<div id=\"div1\" class=\"main box\"> </div>',\n",
        "    '<span id=\"1dhs\"> </span>',\n",
        "    '{\"name\": \"ali\", \"age\": 30}',\n",
        "    '[1,2,3]'\n",
        "]\n"
      ],
      "metadata": {
        "id": "LIZH0_01L7uU"
      },
      "execution_count": null,
      "outputs": []
    },
    {
      "cell_type": "code",
      "source": [
        "for t in text_examples:\n",
        "    m = date_regex.search(t)\n",
        "    if m:\n",
        "        print(f\"متن: {t}\")\n",
        "        print(\"→ تاریخ شناسایی شده:\", m.group(0))\n",
        "        print(\"گروه‌ها:\", m.groupdict())\n",
        "        print(\"----\")\n",
        "    else:\n",
        "        print(f\"متن: {t}\")\n",
        "        print(\"→ تاریخ پیدا نشد\")\n",
        "        print(\"----\")"
      ],
      "metadata": {
        "colab": {
          "base_uri": "https://localhost:8080/"
        },
        "id": "zRI1sUYaMa2P",
        "outputId": "9313b632-d77b-4c2e-afc4-95c626c909a6"
      },
      "execution_count": null,
      "outputs": [
        {
          "output_type": "stream",
          "name": "stdout",
          "text": [
            "متن: ۱۴۰۳/۰۶/۲۵\n",
            "→ تاریخ شناسایی شده: ۱۴۰۳/۰۶/۲۵\n",
            "گروه‌ها: {'y1': '۱۴۰۳', 'm1': '۰۶', 'd1': '۲۵', 'd2': None, 'mn2': None, 'y2': None, 'ord': None, 'mn3': None, 'y3': None}\n",
            "----\n",
            "متن: ۲۵/شهریور/۱۴۰۳\n",
            "→ تاریخ شناسایی شده: ۲۵/شهریور/۱۴۰۳\n",
            "گروه‌ها: {'y1': None, 'm1': None, 'd1': None, 'd2': '۲۵', 'mn2': 'شهریور', 'y2': '۱۴۰۳', 'ord': None, 'mn3': None, 'y3': None}\n",
            "----\n",
            "متن: ۱۴۰۳-۰۶-۰۵\n",
            "→ تاریخ شناسایی شده: ۱۴۰۳-۰۶-۰۵\n",
            "گروه‌ها: {'y1': '۱۴۰۳', 'm1': '۰۶', 'd1': '۰۵', 'd2': None, 'mn2': None, 'y2': None, 'ord': None, 'mn3': None, 'y3': None}\n",
            "----\n",
            "متن: بیست و پنجم شهریور ماه سال ۱۴۰۳\n",
            "→ تاریخ شناسایی شده: بیست و پنجم شهریور ماه سال ۱۴۰۳\n",
            "گروه‌ها: {'y1': None, 'm1': None, 'd1': None, 'd2': None, 'mn2': None, 'y2': None, 'ord': 'بیست و پنجم', 'mn3': 'شهریور', 'y3': '۱۴۰۳'}\n",
            "----\n",
            "متن: پانزدهم دی ماه سال ۱۴۰۳\n",
            "→ تاریخ شناسایی شده: پانزدهم دی ماه سال ۱۴۰۳\n",
            "گروه‌ها: {'y1': None, 'm1': None, 'd1': None, 'd2': None, 'mn2': None, 'y2': None, 'ord': 'پانزدهم', 'mn3': 'دی', 'y3': '۱۴۰۳'}\n",
            "----\n",
            "متن: یکم مرداد ماه سال ۱۳۲۶\n",
            "→ تاریخ شناسایی شده: یکم مرداد ماه سال ۱۳۲۶\n",
            "گروه‌ها: {'y1': None, 'm1': None, 'd1': None, 'd2': None, 'mn2': None, 'y2': None, 'ord': 'یکم', 'mn3': 'مرداد', 'y3': '۱۳۲۶'}\n",
            "----\n",
            "متن: (ص) برخی متن (ره)\n",
            "→ تاریخ پیدا نشد\n",
            "----\n",
            "متن: <div id=\"div1\" class=\"main box\"> </div>\n",
            "→ تاریخ پیدا نشد\n",
            "----\n",
            "متن: <span id=\"1dhs\"> </span>\n",
            "→ تاریخ پیدا نشد\n",
            "----\n",
            "متن: {\"name\": \"ali\", \"age\": 30}\n",
            "→ تاریخ پیدا نشد\n",
            "----\n",
            "متن: [1,2,3]\n",
            "→ تاریخ پیدا نشد\n",
            "----\n"
          ]
        }
      ]
    },
    {
      "cell_type": "code",
      "source": [
        "text = \"\"\"\n",
        "امروز ۱۴۰۳/۰۶/۲۵ جلسه‌ای برگزار شد.\n",
        "جلسه‌ی بعدی در تاریخ ۲۵/شهریور/۱۴۰۳ خواهد بود.\n",
        "همچنین یک رویداد قدیمی در ۱۴۰۳-۰۶-۰۵ ثبت شده است.\n",
        "بیست و پنجم شهریور ماه سال ۱۴۰۳ روز مهمی بود.\n",
        "پانزدهم دی ماه سال ۱۴۰۳ برف شدیدی بارید.\n",
        "یکم مرداد ماه سال ۱۳۲۶ در تاریخ ایران اتفاق مهمی ثبت شده است.\n",
        "\"\"\""
      ],
      "metadata": {
        "id": "TCnMBWMlMdon"
      },
      "execution_count": null,
      "outputs": []
    },
    {
      "cell_type": "code",
      "source": [
        "matches = date_regex.finditer(text)\n",
        "\n",
        "for m in matches:\n",
        "    print(\"→ تاریخ شناسایی شده:\", m.group(0))\n",
        "    print(\"گروه‌ها:\", m.groupdict())\n",
        "    print(\"----\")"
      ],
      "metadata": {
        "colab": {
          "base_uri": "https://localhost:8080/"
        },
        "id": "mPCIJ8mBMgT1",
        "outputId": "724adca4-1787-4b1a-aa15-52ffbbf657c1"
      },
      "execution_count": null,
      "outputs": [
        {
          "output_type": "stream",
          "name": "stdout",
          "text": [
            "→ تاریخ شناسایی شده: ۱۴۰۳/۰۶/۲۵\n",
            "گروه‌ها: {'y1': '۱۴۰۳', 'm1': '۰۶', 'd1': '۲۵', 'd2': None, 'mn2': None, 'y2': None, 'ord': None, 'mn3': None, 'y3': None}\n",
            "----\n",
            "→ تاریخ شناسایی شده: ۲۵/شهریور/۱۴۰۳\n",
            "گروه‌ها: {'y1': None, 'm1': None, 'd1': None, 'd2': '۲۵', 'mn2': 'شهریور', 'y2': '۱۴۰۳', 'ord': None, 'mn3': None, 'y3': None}\n",
            "----\n",
            "→ تاریخ شناسایی شده: ۱۴۰۳-۰۶-۰۵\n",
            "گروه‌ها: {'y1': '۱۴۰۳', 'm1': '۰۶', 'd1': '۰۵', 'd2': None, 'mn2': None, 'y2': None, 'ord': None, 'mn3': None, 'y3': None}\n",
            "----\n",
            "→ تاریخ شناسایی شده: بیست و پنجم شهریور ماه سال ۱۴۰۳\n",
            "گروه‌ها: {'y1': None, 'm1': None, 'd1': None, 'd2': None, 'mn2': None, 'y2': None, 'ord': 'بیست و پنجم', 'mn3': 'شهریور', 'y3': '۱۴۰۳'}\n",
            "----\n",
            "→ تاریخ شناسایی شده: پانزدهم دی ماه سال ۱۴۰۳\n",
            "گروه‌ها: {'y1': None, 'm1': None, 'd1': None, 'd2': None, 'mn2': None, 'y2': None, 'ord': 'پانزدهم', 'mn3': 'دی', 'y3': '۱۴۰۳'}\n",
            "----\n",
            "→ تاریخ شناسایی شده: یکم مرداد ماه سال ۱۳۲۶\n",
            "گروه‌ها: {'y1': None, 'm1': None, 'd1': None, 'd2': None, 'mn2': None, 'y2': None, 'ord': 'یکم', 'mn3': 'مرداد', 'y3': '۱۳۲۶'}\n",
            "----\n"
          ]
        }
      ]
    },
    {
      "cell_type": "markdown",
      "source": [
        "## مسئله دوم\n",
        "عبارت منظمی بنویسید که در متون فارسی تمام نشانه‌های اختصاری را بیابد. برخی از نشانه‌های اختصاری عبارتند از (ص)، (ره)، (ق.م)، (س)"
      ],
      "metadata": {
        "id": "yPyPS9CQJc8V"
      }
    },
    {
      "cell_type": "markdown",
      "source": [
        "الگو:\n",
        "پرانتز باز + حروف فارسی + نقطه اختیاری + پرانتز بسته"
      ],
      "metadata": {
        "id": "5SJe6HkPJRHm"
      }
    },
    {
      "cell_type": "code",
      "execution_count": null,
      "metadata": {
        "colab": {
          "base_uri": "https://localhost:8080/"
        },
        "id": "-0hAobDaGtU4",
        "outputId": "eaeae7bc-4889-43c4-e7cd-6c2605641b67"
      },
      "outputs": [
        {
          "output_type": "stream",
          "name": "stdout",
          "text": [
            "اختصارات: ['(ص)', '(ع)', '(ق.م)', '(ره)', '(س)']\n"
          ]
        }
      ],
      "source": [
        "text = \"پیامبر(ص) امام علی(ع) قرآن (ق.م) رهبر(ره) زهرا (س)\"\n",
        "regex = r\"\\([اآ-ی]+(?:\\.[اآ-ی]+)*\\)\"\n",
        "\n",
        "print(\"اختصارات:\", re.findall(regex, text))"
      ]
    },
    {
      "cell_type": "markdown",
      "source": [
        "## مسئله سوم\n",
        "عبارت منظمی بنویسید که در سورس کدهای HTML، آی‌دی‌ها وکلاس‌های تمام تگ‌های HTML را استخراج کند."
      ],
      "metadata": {
        "id": "K1k6Q3OwMlZP"
      }
    },
    {
      "cell_type": "code",
      "source": [
        "attr_re = re.compile(r'\\b(?:id|class)\\s*=\\s*[\"\\']([^\"\\']+)[\"\\']', re.IGNORECASE)"
      ],
      "metadata": {
        "id": "KtaNzXXUMziA"
      },
      "execution_count": null,
      "outputs": []
    },
    {
      "cell_type": "code",
      "source": [
        "html = \"\"\"<!doctype html>\n",
        "<html lang=\"fa\">\n",
        "<head>\n",
        "  <meta charset=\"utf-8\">\n",
        "  <title>نمونه برای تست</title>\n",
        "</head>\n",
        "<body>\n",
        "  <!-- simple id -->\n",
        "  <div id=\"div1\">محتوا</div>\n",
        "\n",
        "  <!-- numeric id, single quotes -->\n",
        "  <span id='1dhs'>متن</span>\n",
        "\n",
        "  <!-- class with multiple names -->\n",
        "  <section class=\"main container highlighted\">\n",
        "    <p class=\"text\">پارگراف</p>\n",
        "  </section>\n",
        "\n",
        "  <!-- id + class together, attributes in different order -->\n",
        "  <article class=\"post\" id=\"post-123\">\n",
        "    <h1 class=\"title heading-1\">عنوان</h1>\n",
        "    <a href=\"/go\" id=\"link_1\" class=\"btn primary\">لینک</a>\n",
        "  </article>\n",
        "\n",
        "  <!-- attributes with extra spaces and newline -->\n",
        "  <div\n",
        "    id = \"multiline-id\"\n",
        "    class = \"multi line-class anotherClass\"\n",
        "  >\n",
        "    متن چند خطی\n",
        "  </div>\n",
        "\n",
        "  <!-- attributes that are not id/class (should be ignored) -->\n",
        "  <input type=\"text\" name=\"username\" value=\"ali\" />\n",
        "  <img src=\"a.jpg\" alt=\"عکس\" data-id=\"not-target\" />\n",
        "\n",
        "  <!-- empty id/class (rare but possible) -->\n",
        "  <div id=\"\" class=\"\">خالی</div>\n",
        "\n",
        "  <!-- malformed but possible: no quotes (not recommended) -->\n",
        "  <span id=unquotedID class=unquotedClass>بدون کوتیشن</span>\n",
        "\n",
        "  <!-- names with hyphens, underscores -->\n",
        "  <div id=\"user-profile\" class=\"user_card user-card_v2\">پروفایل</div>\n",
        "</body>\n",
        "</html>\n",
        "\"\"\""
      ],
      "metadata": {
        "id": "YR8rTr36Mzp5"
      },
      "execution_count": null,
      "outputs": []
    },
    {
      "cell_type": "code",
      "source": [
        "found = attr_re.findall(html)\n",
        "print(\"Raw attribute values found:\")\n",
        "for v in found:\n",
        "    print(\"-\", repr(v))"
      ],
      "metadata": {
        "colab": {
          "base_uri": "https://localhost:8080/"
        },
        "id": "ajtwn0a6MzsX",
        "outputId": "4422c7de-7d12-4834-c272-88dd38f92deb"
      },
      "execution_count": null,
      "outputs": [
        {
          "output_type": "stream",
          "name": "stdout",
          "text": [
            "Raw attribute values found:\n",
            "- 'div1'\n",
            "- '1dhs'\n",
            "- 'main container highlighted'\n",
            "- 'text'\n",
            "- 'post'\n",
            "- 'post-123'\n",
            "- 'title heading-1'\n",
            "- 'link_1'\n",
            "- 'btn primary'\n",
            "- 'multiline-id'\n",
            "- 'multi line-class anotherClass'\n",
            "- 'not-target'\n",
            "- 'user-profile'\n",
            "- 'user_card user-card_v2'\n"
          ]
        }
      ]
    },
    {
      "cell_type": "code",
      "source": [
        "attr_type_re = re.compile(r'\\b(id|class)\\s*=\\s*[\"\\']([^\"\\']*)[\"\\']', re.IGNORECASE)\n",
        "ids = []\n",
        "classes = []\n",
        "for t, val in attr_type_re.findall(html):\n",
        "    if t.lower() == 'id':\n",
        "        ids.append(val)\n",
        "    else:\n",
        "        classes.extend([c for c in val.split() if c])"
      ],
      "metadata": {
        "id": "XnIX6T0HMzu-"
      },
      "execution_count": null,
      "outputs": []
    },
    {
      "cell_type": "code",
      "source": [
        "print(\"\\nIDs found:\")\n",
        "for i in ids:\n",
        "    print(\"-\", repr(i))\n",
        "\n",
        "print(\"\\nIndividual classes found:\")\n",
        "for c in classes:\n",
        "    print(\"-\", repr(c))"
      ],
      "metadata": {
        "colab": {
          "base_uri": "https://localhost:8080/"
        },
        "id": "U7zKgc9DMzxx",
        "outputId": "3464f15a-e4f3-4399-8a9d-9702452ba3bc"
      },
      "execution_count": null,
      "outputs": [
        {
          "output_type": "stream",
          "name": "stdout",
          "text": [
            "\n",
            "IDs found:\n",
            "- 'div1'\n",
            "- '1dhs'\n",
            "- 'post-123'\n",
            "- 'link_1'\n",
            "- 'multiline-id'\n",
            "- 'not-target'\n",
            "- ''\n",
            "- 'user-profile'\n",
            "\n",
            "Individual classes found:\n",
            "- 'main'\n",
            "- 'container'\n",
            "- 'highlighted'\n",
            "- 'text'\n",
            "- 'post'\n",
            "- 'title'\n",
            "- 'heading-1'\n",
            "- 'btn'\n",
            "- 'primary'\n",
            "- 'multi'\n",
            "- 'line-class'\n",
            "- 'anotherClass'\n",
            "- 'user_card'\n",
            "- 'user-card_v2'\n"
          ]
        }
      ]
    },
    {
      "cell_type": "markdown",
      "source": [
        "## مسئله چهارم\n",
        "عبارت منظمی بنویسید که بتواند JSON ها را تشخیص دهد"
      ],
      "metadata": {
        "id": "DP2y5kqZUEUI"
      }
    },
    {
      "cell_type": "markdown",
      "source": [
        "Regex101 = `/(?<o>{((?<s>\\\"([^\\0-\\x1F\\\"\\\\]|\\\\[\\\"\\\\\\/bfnrt]|\\\\u[0-9a-fA-F]{4})*\\\"):(?<v>\\g<s>|(?<n>-?(0|[1-9]\\d*)(.\\d+)?([eE][+-]?\\d+)?)|\\g<o>|\\g<a>|true|false|null))?\\s*((?<c>,\\s*)\\g<s>(?<d>:\\s*)\\g<v>)*})|(?<a>\\[\\g<v>?(\\g<c>\\g<v>)*\\])/`"
      ],
      "metadata": {
        "id": "O8FAnZdmexVy"
      }
    },
    {
      "cell_type": "code",
      "source": [
        "text_json = \"\"\"\n",
        "این متن ساده است.\n",
        "{\"name\": \"Ali\", \"age\": 23, \"skills\": [\"python, \"regex\"]}\n",
        "یه متن دیگه.\n",
        "[1, 2, {\"a\": 3, \"b\": [4,5]}]\n",
        "متنی که JSON ندارد.\n",
        "\"\"\"\n",
        "\n",
        "json_blocks = []\n",
        "stack = []\n",
        "start_index = None\n",
        "\n",
        "for i, char in enumerate(text_json):\n",
        "    if char in \"{[\":\n",
        "        if not stack:\n",
        "            # شروع بلوک top-level\n",
        "            start_index = i\n",
        "        stack.append(char)\n",
        "    elif char in \"}]\":\n",
        "        if not stack:\n",
        "            continue\n",
        "        open_brace = stack.pop()\n",
        "        if (open_brace == \"{\" and char != \"}\") or (open_brace == \"[\" and char != \"]\"):\n",
        "            stack = []\n",
        "            start_index = None\n",
        "        elif not stack:\n",
        "            json_blocks.append(text_json[start_index:i+1])\n",
        "            start_index = None\n",
        "\n",
        "print(\"JSON ها:\", json_blocks)"
      ],
      "metadata": {
        "colab": {
          "base_uri": "https://localhost:8080/"
        },
        "id": "vjvDCKwQWdB7",
        "outputId": "dcb4995c-0a56-4998-8298-7c14539c90b2"
      },
      "execution_count": null,
      "outputs": [
        {
          "output_type": "stream",
          "name": "stdout",
          "text": [
            "JSON ها: ['{\"name\": \"Ali\", \"age\": 23, \"skills\": [\"python, \"regex\"]}', '[1, 2, {\"a\": 3, \"b\": [4,5]}]']\n"
          ]
        }
      ]
    },
    {
      "cell_type": "code",
      "source": [
        "import json\n",
        "\n",
        "def extract_top_level_jsons(text: str, validate: bool = False):\n",
        "    \"\"\"\n",
        "    Extract top-level JSON blocks ({...} or [...]) from `text`.\n",
        "    If validate=True, only return blocks that json.loads() accepts.\n",
        "    Returns: list of JSON text blocks (strings).\n",
        "    \"\"\"\n",
        "    json_blocks = []\n",
        "    stack = []\n",
        "    start_index = None\n",
        "\n",
        "    in_string = False     # True when inside a double-quoted JSON string\n",
        "    escaped = False       # True when previous char was backslash (inside string)\n",
        "\n",
        "    for i, ch in enumerate(text):\n",
        "        if in_string:\n",
        "            if escaped:\n",
        "                escaped = False\n",
        "            else:\n",
        "                if ch == '\\\\':\n",
        "                    escaped = True\n",
        "                elif ch == '\"':\n",
        "                    in_string = False\n",
        "            continue\n",
        "\n",
        "        # not in string\n",
        "        if ch == '\"':\n",
        "            in_string = True\n",
        "            escaped = False\n",
        "            continue\n",
        "\n",
        "        if ch in \"{[\":\n",
        "            if not stack:\n",
        "                # start of top-level JSON\n",
        "                start_index = i\n",
        "            stack.append(ch)\n",
        "\n",
        "        elif ch in \"}]\":\n",
        "            if not stack:\n",
        "                # unmatched close → reset\n",
        "                start_index = None\n",
        "                stack = []\n",
        "                continue\n",
        "\n",
        "            open_brace = stack.pop()\n",
        "            if (open_brace == '{' and ch != '}') or (open_brace == '[' and ch != ']'):\n",
        "                # mismatch → reset\n",
        "                start_index = None\n",
        "                stack = []\n",
        "                continue\n",
        "\n",
        "            if not stack and start_index is not None:\n",
        "                block = text[start_index:i+1]\n",
        "                if validate:\n",
        "                    try:\n",
        "                        json.loads(block)\n",
        "                        json_blocks.append(block)\n",
        "                    except json.JSONDecodeError:\n",
        "                        pass\n",
        "                else:\n",
        "                    json_blocks.append(block)\n",
        "                start_index = None\n",
        "\n",
        "    return json_blocks\n",
        "\n",
        "\n",
        "# ---- Example input ----\n",
        "text_json = \"\"\"\n",
        "این متن ساده است.\n",
        "{\"name\": \"Ali\", \"age\": 23, \"skills\": [\"python, \"regex\"]}\n",
        "یه متن دیگه.\n",
        "[1, 2, {\"a\": 3, \"b\": [4,5]}]\n",
        "متنی که JSON ندارد.\n",
        "\"\"\"\n",
        "\n",
        "print(\"Extract (no validation):\")\n",
        "print(extract_top_level_jsons(text_json, validate=False))\n",
        "print(\"\\nExtract (with validation):\")\n",
        "print(extract_top_level_jsons(text_json, validate=True))\n"
      ],
      "metadata": {
        "colab": {
          "base_uri": "https://localhost:8080/"
        },
        "id": "mMnUpRfoZ7l6",
        "outputId": "a5eb62ad-a564-4cd7-8183-1ac7f49fe603"
      },
      "execution_count": null,
      "outputs": [
        {
          "output_type": "stream",
          "name": "stdout",
          "text": [
            "Extract (no validation):\n",
            "[]\n",
            "\n",
            "Extract (with validation):\n",
            "[]\n"
          ]
        }
      ]
    }
  ]
}